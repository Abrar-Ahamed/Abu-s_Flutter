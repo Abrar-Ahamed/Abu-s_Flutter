{
  "nbformat": 4,
  "nbformat_minor": 0,
  "metadata": {
    "colab": {
      "provenance": [],
      "authorship_tag": "ABX9TyMvB+PdICzLbFAeGiKhypvV",
      "include_colab_link": true
    },
    "kernelspec": {
      "name": "python3",
      "display_name": "Python 3"
    },
    "language_info": {
      "name": "python"
    },
    "accelerator": "GPU",
    "gpuClass": "standard"
  },
  "cells": [
    {
      "cell_type": "markdown",
      "metadata": {
        "id": "view-in-github",
        "colab_type": "text"
      },
      "source": [
        "<a href=\"https://colab.research.google.com/github/Abrar-Ahamed/Abu-s_Flutter/blob/main/CUDA.ipynb\" target=\"_parent\"><img src=\"https://colab.research.google.com/assets/colab-badge.svg\" alt=\"Open In Colab\"/></a>"
      ]
    },
    {
      "cell_type": "code",
      "execution_count": 1,
      "metadata": {
        "colab": {
          "base_uri": "https://localhost:8080/"
        },
        "id": "qzXzLZd33mfy",
        "outputId": "d7227e85-634a-48b9-e2f3-df6a37a3f05e"
      },
      "outputs": [
        {
          "output_type": "stream",
          "name": "stdout",
          "text": [
            "nvcc: NVIDIA (R) Cuda compiler driver\n",
            "Copyright (c) 2005-2021 NVIDIA Corporation\n",
            "Built on Sun_Feb_14_21:12:58_PST_2021\n",
            "Cuda compilation tools, release 11.2, V11.2.152\n",
            "Build cuda_11.2.r11.2/compiler.29618528_0\n"
          ]
        }
      ],
      "source": [
        "!nvcc --version"
      ]
    },
    {
      "cell_type": "code",
      "source": [
        "import torch\n",
        "torch.cuda.is_available()"
      ],
      "metadata": {
        "colab": {
          "base_uri": "https://localhost:8080/"
        },
        "id": "Dfag0QUa5ING",
        "outputId": "b5190599-cc2a-4e11-8229-bee4afa84eeb"
      },
      "execution_count": 2,
      "outputs": [
        {
          "output_type": "execute_result",
          "data": {
            "text/plain": [
              "True"
            ]
          },
          "metadata": {},
          "execution_count": 2
        }
      ]
    },
    {
      "cell_type": "code",
      "source": [
        "import tensorflow as tf\n",
        "tf.test.gpu_device_name()"
      ],
      "metadata": {
        "colab": {
          "base_uri": "https://localhost:8080/",
          "height": 35
        },
        "id": "TIJE37Zx5Q1o",
        "outputId": "7bcaba9d-8879-492e-bf8b-0bafdb156747"
      },
      "execution_count": 3,
      "outputs": [
        {
          "output_type": "execute_result",
          "data": {
            "text/plain": [
              "'/device:GPU:0'"
            ],
            "application/vnd.google.colaboratory.intrinsic+json": {
              "type": "string"
            }
          },
          "metadata": {},
          "execution_count": 3
        }
      ]
    },
    {
      "cell_type": "code",
      "source": [
        "!pip install git+https://github.com/andreinechaev/nvcc4jupyter.git"
      ],
      "metadata": {
        "colab": {
          "base_uri": "https://localhost:8080/"
        },
        "id": "7pNWKj5n3z2P",
        "outputId": "d2794a6e-02a6-4794-bfa8-7b3afdd32058"
      },
      "execution_count": 4,
      "outputs": [
        {
          "output_type": "stream",
          "name": "stdout",
          "text": [
            "Looking in indexes: https://pypi.org/simple, https://us-python.pkg.dev/colab-wheels/public/simple/\n",
            "Collecting git+https://github.com/andreinechaev/nvcc4jupyter.git\n",
            "  Cloning https://github.com/andreinechaev/nvcc4jupyter.git to /tmp/pip-req-build-0ckeoavl\n",
            "  Running command git clone -q https://github.com/andreinechaev/nvcc4jupyter.git /tmp/pip-req-build-0ckeoavl\n",
            "Building wheels for collected packages: NVCCPlugin\n",
            "  Building wheel for NVCCPlugin (setup.py) ... \u001b[?25l\u001b[?25hdone\n",
            "  Created wheel for NVCCPlugin: filename=NVCCPlugin-0.0.2-py3-none-any.whl size=4306 sha256=e782f42f60821367cb8c096690e141e9c5f711898a7fa5f20ccda3957f357bff\n",
            "  Stored in directory: /tmp/pip-ephem-wheel-cache-6o_meb59/wheels/ca/33/8d/3c86eb85e97d2b6169d95c6e8f2c297fdec60db6e84cb56f5e\n",
            "Successfully built NVCCPlugin\n",
            "Installing collected packages: NVCCPlugin\n",
            "Successfully installed NVCCPlugin-0.0.2\n"
          ]
        }
      ]
    },
    {
      "cell_type": "code",
      "source": [
        "%load_ext nvcc_plugin"
      ],
      "metadata": {
        "id": "KKz7JdhZ3-xx",
        "outputId": "c34700fd-87a2-4858-da59-5b401fe9a933",
        "colab": {
          "base_uri": "https://localhost:8080/"
        }
      },
      "execution_count": 5,
      "outputs": [
        {
          "output_type": "stream",
          "name": "stdout",
          "text": [
            "created output directory at /content/src\n",
            "Out bin /content/result.out\n"
          ]
        }
      ]
    },
    {
      "cell_type": "code",
      "source": [
        "%%cu\n",
        "#include \"cuda_runtime.h\"\n",
        "\n",
        "#include \"device_launch_parameters.h\"\n",
        "\n",
        "#include \"stdio.h\"\n",
        "#include \"stdlib.h\"\n",
        "#define COLUMNS 8\n",
        "#define ROWS 8\n",
        "\n",
        "_global_ void add(float* image, float* avgimage)\n",
        "{\n",
        "    int i = threadIdx.x;\n",
        "    int j = threadIdx.y;\n",
        "    printf(\"\\n(%d, %d)\", i, j);\n",
        "    avgimage[i*(ROWS/2)+j]=(image[(2*i)*ROWS+(2*j)]+image[(2*i+1)*ROWS+(2*j)]+image[(2*i)*ROWS+(2*j+1)]+image[(2*i+1)*ROWS+(2*j+1)])/4;\n",
        "    printf(\"\\navgimage[%d]=(image[%d]+image[%d]+image[%d]+image[%d])/4 = %f\",i*(ROWS/2)+j, (2*i)ROWS+(2*j), (2*i+1)*ROWS+(2*j), (2*i)*ROWS+(2*j+1), (2*i+1)*ROWS+(2*j+1), avgimage[i(ROWS/2)+j]);\n",
        "}\n",
        "\n",
        "int main()\n",
        "{\n",
        "    float image[ROWS][COLUMNS], avgimage[ROWS/2][COLUMNS/2];\n",
        "    float *cudaImage, *cudaAvgImage;\n",
        "\n",
        "    cudaMalloc((void **) &cudaImage, ROWS*COLUMNS*sizeof(float));\n",
        "    cudaMalloc((void *) &cudaAvgImage, (ROWS/2)(COLUMNS/2)*sizeof(float));\n",
        "    printf(\"\\n\\nGenereated image:\\n\");\n",
        "    for (int i = 0; i < ROWS; i++)\n",
        "    {\n",
        "        for (int j = 0; j < COLUMNS; j++)\n",
        "        {\n",
        "            image[i][j]=((rand() % 10000) / 10000.0);\n",
        "            printf(\"%f \", image[i][j]);\n",
        "        }\n",
        "        printf(\"\\n\");\n",
        "    } \n",
        "    \n",
        "    cudaMemcpy(cudaImage, image, ROWS*COLUMNS*sizeof(int),cudaMemcpyHostToDevice); \n",
        "    int numBlocks = 1;\n",
        "    dim3 threadsPerBlock(ROWS/2, COLUMNS/2);\n",
        "    add<<<numBlocks,threadsPerBlock>>>(cudaImage, cudaAvgImage);\n",
        "    cudaMemcpy(avgimage, cudaAvgImage, (ROWS/2)*(COLUMNS/2)*sizeof(float), cudaMemcpyDeviceToHost);\n",
        " \n",
        "    printf(\"\\n\\nAveraged image:\\n\");\n",
        "    for (int i = 0; i < ROWS/2; i++) // Output Arrays\n",
        "    {\n",
        "    for (int j = 0; j < COLUMNS/2; j++)\n",
        "    {\n",
        "    printf(\"%f \",i,j,avgimage[i][j]);\n",
        "    }\n",
        "    printf(\"\\n\");\n",
        "    }\n",
        "    return 0;\n",
        "}"
      ],
      "metadata": {
        "id": "0EtRaqgT4AHQ",
        "outputId": "2ada539c-592d-4002-95dd-3da1c0ef751c",
        "colab": {
          "base_uri": "https://localhost:8080/"
        }
      },
      "execution_count": 8,
      "outputs": [
        {
          "output_type": "stream",
          "name": "stdout",
          "text": [
            "/tmp/tmpmlrosrl2/9f7cc030-71ab-46a7-b956-88fff9206cc3.cu(10): error: this declaration has no storage class or type specifier\n",
            "\n",
            "/tmp/tmpmlrosrl2/9f7cc030-71ab-46a7-b956-88fff9206cc3.cu(10): error: expected a \";\"\n",
            "\n",
            "/tmp/tmpmlrosrl2/9f7cc030-71ab-46a7-b956-88fff9206cc3.cu(41): warning: parsing restarts here after previous syntax error\n",
            "\n",
            "/tmp/tmpmlrosrl2/9f7cc030-71ab-46a7-b956-88fff9206cc3.cu(43): error: this declaration has no storage class or type specifier\n",
            "\n",
            "/tmp/tmpmlrosrl2/9f7cc030-71ab-46a7-b956-88fff9206cc3.cu(43): error: declaration is incompatible with \"int printf(const char *, ...)\"\n",
            "/usr/local/cuda/bin/../targets/x86_64-linux/include/crt/common_functions.h(153): here\n",
            "\n",
            "/tmp/tmpmlrosrl2/9f7cc030-71ab-46a7-b956-88fff9206cc3.cu(43): error: a value of type \"const char *\" cannot be used to initialize an entity of type \"int\"\n",
            "\n",
            "/tmp/tmpmlrosrl2/9f7cc030-71ab-46a7-b956-88fff9206cc3.cu(44): error: expected a declaration\n",
            "\n",
            "/tmp/tmpmlrosrl2/9f7cc030-71ab-46a7-b956-88fff9206cc3.cu(52): warning: parsing restarts here after previous syntax error\n",
            "\n",
            "/tmp/tmpmlrosrl2/9f7cc030-71ab-46a7-b956-88fff9206cc3.cu(53): error: expected a declaration\n",
            "\n",
            "7 errors detected in the compilation of \"/tmp/tmpmlrosrl2/9f7cc030-71ab-46a7-b956-88fff9206cc3.cu\".\n",
            "\n"
          ]
        }
      ]
    },
    {
      "cell_type": "code",
      "source": [],
      "metadata": {
        "id": "GYFB7OW04EKp"
      },
      "execution_count": null,
      "outputs": []
    }
  ]
}